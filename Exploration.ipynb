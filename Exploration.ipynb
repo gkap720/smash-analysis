{
 "cells": [
  {
   "cell_type": "code",
   "execution_count": 2,
   "id": "f2031edb",
   "metadata": {},
   "outputs": [],
   "source": [
    "import pandas as pd\n",
    "import numpy as np\n",
    "import matplotlib.pyplot as plt\n",
    "import json\n",
    "\n",
    "df = pd.read_csv(\"game_data.csv\")"
   ]
  },
  {
   "cell_type": "code",
   "execution_count": null,
   "id": "0b41a5ea",
   "metadata": {},
   "outputs": [],
   "source": [
    "new_list = []\n",
    "for i, row in df.iterrows():\n",
    "    date = row[0]\n",
    "    data = json.loads(row[\"game_data\"])\n",
    "    for row in data:\n",
    "        row[\"date\"] = date\n",
    "    new_list += data\n",
    "games = pd.DataFrame(new_list)"
   ]
  },
  {
   "cell_type": "code",
   "execution_count": null,
   "id": "f2ed3147",
   "metadata": {},
   "outputs": [],
   "source": [
    "games.isna().mean()"
   ]
  },
  {
   "cell_type": "markdown",
   "id": "e321cae9",
   "metadata": {},
   "source": [
    "We're most interested in which characters won or lost. This data is missing in about 1% of rows so we can safely drop those as they make up only a very small minority of data points."
   ]
  },
  {
   "cell_type": "code",
   "execution_count": null,
   "id": "9baa4b59",
   "metadata": {},
   "outputs": [],
   "source": [
    "games.dropna(subset=[\"winner_char\", \"loser_char\"], inplace=True)"
   ]
  },
  {
   "cell_type": "markdown",
   "id": "6c9d4d44",
   "metadata": {},
   "source": [
    "Cleaning the strings to remove the \"ultimate/\" tag at the beginnings of the characters' names."
   ]
  },
  {
   "cell_type": "code",
   "execution_count": null,
   "id": "f582c362",
   "metadata": {},
   "outputs": [],
   "source": [
    "\n",
    "games[\"winner_char\"] = games[\"winner_char\"].apply(lambda x: x[9:])\n",
    "games[\"loser_char\"] = games[\"loser_char\"].apply(lambda x: x[9:])"
   ]
  },
  {
   "cell_type": "markdown",
   "id": "d4ecfeb0",
   "metadata": {},
   "source": [
    "## Question 1: What character should I pick?"
   ]
  },
  {
   "cell_type": "code",
   "execution_count": null,
   "id": "69f85494",
   "metadata": {},
   "outputs": [],
   "source": [
    "wins_per_char = games[\"winner_char\"].value_counts()"
   ]
  },
  {
   "cell_type": "code",
   "execution_count": null,
   "id": "1c8a532c",
   "metadata": {},
   "outputs": [],
   "source": [
    "top_chars = wins_per_char[:20]"
   ]
  },
  {
   "cell_type": "markdown",
   "id": "bcd2fa12",
   "metadata": {},
   "source": [
    "Most wins by absolute value"
   ]
  },
  {
   "cell_type": "code",
   "execution_count": null,
   "id": "afc00ee7",
   "metadata": {},
   "outputs": [],
   "source": [
    "plt.figure(figsize=(12,8))\n",
    "plt.barh(top_chars.index[::-1], top_chars[::-1], );"
   ]
  },
  {
   "cell_type": "code",
   "execution_count": null,
   "id": "a86ff774",
   "metadata": {},
   "outputs": [],
   "source": [
    "wins_per_char.hist()"
   ]
  },
  {
   "cell_type": "code",
   "execution_count": null,
   "id": "b2fbdd8b",
   "metadata": {},
   "outputs": [],
   "source": [
    "char_played = games[\"winner_char\"].value_counts() + games[\"loser_char\"].value_counts()\n",
    "char_played"
   ]
  },
  {
   "cell_type": "markdown",
   "id": "7de2a9e9",
   "metadata": {},
   "source": [
    "### Most popular character?"
   ]
  },
  {
   "cell_type": "code",
   "execution_count": null,
   "id": "cf94c2e4",
   "metadata": {},
   "outputs": [],
   "source": [
    "char_played.sort_values(ascending=False)[:10]"
   ]
  },
  {
   "cell_type": "code",
   "execution_count": null,
   "id": "2ee73eb9",
   "metadata": {},
   "outputs": [],
   "source": [
    "char_played.hist(cumulative=True)"
   ]
  },
  {
   "cell_type": "markdown",
   "id": "0e9dae70",
   "metadata": {},
   "source": [
    "There's clearly only a small-ish subset of characters who are popular (most characters are grouped towards the bottom of the histogram). Each step gets smaller as we go towards the right meaning that fewer characters account for more matches."
   ]
  },
  {
   "cell_type": "markdown",
   "id": "fc44701d",
   "metadata": {},
   "source": [
    "### Characters with the highest win ratio"
   ]
  },
  {
   "cell_type": "code",
   "execution_count": null,
   "id": "1bdac81e",
   "metadata": {},
   "outputs": [],
   "source": [
    "win_ratio = wins_per_char / char_played\n",
    "\n",
    "top_20 = win_ratio.sort_values(ascending=False)[:20]\n",
    "plt.figure(figsize=(12,8))\n",
    "plt.barh(top_20.index, top_20);"
   ]
  },
  {
   "cell_type": "markdown",
   "id": "b2a9c5dc",
   "metadata": {},
   "source": [
    "All of these characters have a higher than average win ratio, suggesting that generally they are better in a variety of matchups."
   ]
  },
  {
   "cell_type": "code",
   "execution_count": null,
   "id": "422270bf",
   "metadata": {},
   "outputs": [],
   "source": [
    "combined = pd.concat([char_played, wins_per_char, win_ratio], axis=1)\n",
    "combined.columns = [\"Appearances\", \"Wins\", \"Win Ratio\"]\n",
    "condition = (combined[\"Win Ratio\"] > combined[\"Win Ratio\"].mean())\n",
    "combined[condition].sort_values(\"Win Ratio\", ascending=False)"
   ]
  },
  {
   "cell_type": "markdown",
   "id": "81958f62",
   "metadata": {},
   "source": [
    "It seems some unpopular characters have a relatively high win ratio. Probably since they're underrepresented in tournaments, there's not really enough high-level matches to produce a decent ratio. Only account for more popular characters instead"
   ]
  },
  {
   "cell_type": "code",
   "execution_count": null,
   "id": "6e26eacf",
   "metadata": {},
   "outputs": [],
   "source": [
    "condition = (combined[\"Win Ratio\"] > combined[\"Win Ratio\"].mean()) & (combined[\"Appearances\"] > 50000)\n",
    "combined[condition].sort_values(\"Win Ratio\", ascending=False)"
   ]
  },
  {
   "cell_type": "code",
   "execution_count": null,
   "id": "bf9e0317",
   "metadata": {},
   "outputs": [],
   "source": [
    "top_ten = combined[condition].sort_values(\"Win Ratio\", ascending=False)[:10]\n",
    "plt.barh(top_ten.index, top_ten[\"Win Ratio\"]);"
   ]
  },
  {
   "cell_type": "markdown",
   "id": "8906711d",
   "metadata": {},
   "source": [
    "### Is the game \"balanced\"? Do characters have a similar chance of winning?"
   ]
  },
  {
   "cell_type": "code",
   "execution_count": null,
   "id": "7e440e3f",
   "metadata": {},
   "outputs": [],
   "source": [
    "win_ratio.mean()"
   ]
  },
  {
   "cell_type": "code",
   "execution_count": null,
   "id": "19de84b2",
   "metadata": {},
   "outputs": [],
   "source": [
    "np.abs(win_ratio - win_ratio.mean()).sort_values(ascending=False)[:20]"
   ]
  },
  {
   "cell_type": "code",
   "execution_count": null,
   "id": "b808b66b",
   "metadata": {},
   "outputs": [],
   "source": [
    "diff = win_ratio - win_ratio.mean()\n",
    "\n",
    "outliers = diff.apply(lambda x: 1 if x > diff.std() else (-1 if x < -diff.std() else 0))\n",
    "\n",
    "outliers.value_counts()"
   ]
  },
  {
   "cell_type": "code",
   "execution_count": null,
   "id": "4ea8c698",
   "metadata": {},
   "outputs": [],
   "source": [
    "plt.pie(outliers.value_counts());"
   ]
  },
  {
   "cell_type": "markdown",
   "id": "febe37c8",
   "metadata": {},
   "source": [
    "There are definitely some characters with an above average chance of winning as well as characters with a far below average chance of winning. So the game is definitely not PERFECTLY balanced, although most characters have average performance (within one standard deviation of the mean)."
   ]
  },
  {
   "cell_type": "markdown",
   "id": "23490e71",
   "metadata": {},
   "source": [
    "## Which stages are the most popular to play on? Which one should I pick?"
   ]
  },
  {
   "cell_type": "code",
   "execution_count": null,
   "id": "016672a2",
   "metadata": {},
   "outputs": [],
   "source": [
    "games[\"stage\"].value_counts()"
   ]
  },
  {
   "cell_type": "markdown",
   "id": "353b1252",
   "metadata": {},
   "source": [
    "To find the best stage to pick, let's say we pick the 'best' character from our previous analysis and then find the best stage for that character"
   ]
  },
  {
   "cell_type": "code",
   "execution_count": null,
   "id": "2dc4cafa",
   "metadata": {},
   "outputs": [],
   "source": [
    "wins_per_stage = games[games[\"winner_char\"] == top_ten.index[0]] \\\n",
    "    .groupby(\"stage\")[\"winner_char\"].count().sort_values(ascending=False)\n",
    "\n",
    "loss_per_stage = games[games[\"loser_char\"] == top_ten.index[0]] \\\n",
    "    .groupby(\"stage\")[\"loser_char\"].count().sort_values(ascending=False)\n",
    "\n",
    "stage_win_ratio = wins_per_stage / (wins_per_stage + loss_per_stage)"
   ]
  },
  {
   "cell_type": "markdown",
   "id": "63b8c6b7",
   "metadata": {},
   "source": [
    "Let's not account for massively underrepresented stages"
   ]
  },
  {
   "cell_type": "code",
   "execution_count": null,
   "id": "ad6202bb",
   "metadata": {},
   "outputs": [],
   "source": [
    "stage_win_ratio = stage_win_ratio[games[\"stage\"].value_counts() > 5000]\n",
    "\n",
    "plt.figure(figsize=(12,8))\n",
    "plt.barh(stage_win_ratio.sort_values(ascending=False).index, stage_win_ratio.sort_values(ascending=False));"
   ]
  },
  {
   "cell_type": "markdown",
   "id": "8ad56272",
   "metadata": {},
   "source": [
    "It seems that this character has the highest probability of winning on Final Destination, Battlefield and Lylat Cruise!"
   ]
  },
  {
   "cell_type": "markdown",
   "id": "059eba5a",
   "metadata": {},
   "source": [
    "## Are there any trends in character popularity?"
   ]
  },
  {
   "cell_type": "code",
   "execution_count": null,
   "id": "8cc6c4b3",
   "metadata": {},
   "outputs": [],
   "source": [
    "games[\"date\"] = pd.to_datetime(games[\"date\"])\n",
    "\n",
    "wins_per_month = games.groupby([pd.Grouper(key=\"date\", freq=\"M\"), \"winner_char\"])[\"winner_char\"].count()\n",
    "\n",
    "wins_per_month = pd.DataFrame(wins_per_month)\n",
    "\n",
    "wins_per_month.columns = [\"win_count\"]"
   ]
  },
  {
   "cell_type": "code",
   "execution_count": null,
   "id": "3964bd07",
   "metadata": {},
   "outputs": [],
   "source": [
    "wins_sorted = wins_per_month.sort_values([\"date\", \"win_count\"], ascending=[True, False]).unstack()\n",
    "\n",
    "top_10 = wins_sorted.iloc[0].sort_values(ascending=False)[:10].index\n",
    "\n",
    "share_of_wins = wins_sorted/wins_sorted.sum(axis=1)[:,None]"
   ]
  },
  {
   "cell_type": "code",
   "execution_count": null,
   "id": "39aa3878",
   "metadata": {},
   "outputs": [],
   "source": [
    "plt.figure(figsize=(16,10))\n",
    "plt.plot(share_of_wins[top_10]*100, label=[el[1] for el in top_10], lw=2.5)\n",
    "plt.ylabel(\"Share of Wins (%)\")\n",
    "plt.legend();"
   ]
  },
  {
   "cell_type": "markdown",
   "id": "0adb491f",
   "metadata": {},
   "source": [
    "Main takeaways here is that recently Steve has lost his dominance. The character now accounts for a far larger share of wins than he used to have; a change which happened in just the past few months."
   ]
  },
  {
   "cell_type": "code",
   "execution_count": null,
   "id": "33b2fe9b",
   "metadata": {},
   "outputs": [],
   "source": [
    "plt.figure(figsize=(16,10))\n",
    "plt.plot(share_of_wins[top_10].diff(), label=[el[1] for el in top_10], lw=2)\n",
    "plt.legend();"
   ]
  },
  {
   "cell_type": "markdown",
   "id": "2e78fd2c",
   "metadata": {},
   "source": [
    "Illustrates Steve's massive drop in popularity in April."
   ]
  }
 ],
 "metadata": {
  "kernelspec": {
   "display_name": "Python 3",
   "language": "python",
   "name": "python3"
  },
  "language_info": {
   "codemirror_mode": {
    "name": "ipython",
    "version": 3
   },
   "file_extension": ".py",
   "mimetype": "text/x-python",
   "name": "python",
   "nbconvert_exporter": "python",
   "pygments_lexer": "ipython3",
   "version": "3.8.12"
  },
  "toc": {
   "base_numbering": 1,
   "nav_menu": {},
   "number_sections": true,
   "sideBar": true,
   "skip_h1_title": false,
   "title_cell": "Table of Contents",
   "title_sidebar": "Contents",
   "toc_cell": false,
   "toc_position": {},
   "toc_section_display": true,
   "toc_window_display": false
  }
 },
 "nbformat": 4,
 "nbformat_minor": 5
}
